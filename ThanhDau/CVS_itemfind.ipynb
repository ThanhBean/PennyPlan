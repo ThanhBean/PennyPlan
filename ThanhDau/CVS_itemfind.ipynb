{
 "cells": [
  {
   "cell_type": "code",
   "execution_count": 2,
   "metadata": {},
   "outputs": [
    {
     "name": "stdout",
     "output_type": "stream",
     "text": [
      "  Origin                           Brand  Quantity (lbs)  Price\n",
      "0    CVS       Spam Luncheon Meat, 12 oz            0.75  $5.29\n",
      "1    CVS  Spam Lite Luncheon Meat, 12 oz            0.75  $5.29\n"
     ]
    }
   ],
   "source": [
    "from bs4 import BeautifulSoup\n",
    "import requests\n",
    "import time\n",
    "from selenium import webdriver\n",
    "from selenium.webdriver.common.by import By\n",
    "from selenium.webdriver.common.keys import Keys\n",
    "from selenium.webdriver.chrome.options import Options\n",
    "from selenium.webdriver.chrome.service import Service\n",
    "import time\n",
    "import re\n",
    "\n",
    "# Set up the driver\n",
    "chrome_driver_path = r'D:\\Downloads\\chromedriver.exe'\n",
    "\n",
    "# Set up the Selenium WebDriver using Service\n",
    "service = Service(executable_path=chrome_driver_path)\n",
    "driver = webdriver.Chrome(service=service)\n",
    "object =\"spam\"\n",
    "page_url = (f\"https://www.cvs.com/search?searchTerm={object}\")\n",
    "driver.get(page_url)\n",
    "\n",
    "time.sleep(5)\n",
    "\n",
    "driver.find_element(By.XPATH, '//button[@class=\"onetrust-close-btn-handler onetrust-close-btn-ui banner-close-button ot-close-icon\"]').click()\n",
    "time.sleep(3)\n",
    "object_brand = driver.find_elements(By.XPATH, '//div[@class=\"css-901oao css-cens5h r-b0vftf r-1xaesmv r-ubezar r-majxgm r-29m4ib r-rjixqe r-1bymd8e r-fdjqy7 r-13qz1uu\"]')\n",
    "time.sleep(3)\n",
    "object_price = driver.find_elements(By.XPATH, '//div[@class=\"flex mt0 mb0 pt0 pb0    justify-start vtex-flex-layout-0-x-flexRowContent vtex-flex-layout-0-x-flexRowContent--product-price items-stretch w-100\"]')\n",
    "time.sleep(3)\n",
    "\n",
    "import re\n",
    "\n",
    "def convert_kg_to_lbs(kg):\n",
    "    \"\"\"Convert kilograms to pounds.\"\"\"\n",
    "    return kg * 2.20462\n",
    "\n",
    "def convert_oz_to_lbs(oz):\n",
    "    \"\"\"Convert ounces to pounds.\"\"\"\n",
    "    return oz * 0.0625\n",
    "\n",
    "def convert_g_to_lbs(g):\n",
    "    \"\"\"Convert grams to pounds.\"\"\"\n",
    "    return g * 0.00220462\n",
    "\n",
    "def extract_quantity_in_lbs(product_string):\n",
    "    # Regular expression pattern to match quantity and unit (case insensitive)\n",
    "    pattern = r'(\\d+\\.?\\d*)\\s*(lb|lbs|kg|kgs|oz|g)\\s*'  # Handles lb, kg, oz, g\n",
    "\n",
    "    # Find all matches in the string\n",
    "    matches = re.findall(pattern, product_string, flags=re.IGNORECASE)\n",
    "\n",
    "    # Variable to store the total quantity in pounds\n",
    "    total_quantity_lbs = 0.0\n",
    "\n",
    "    # Flag to track if we've already counted a quantity\n",
    "    counted = False\n",
    "\n",
    "    for match in matches:\n",
    "        quantity, unit = match\n",
    "        quantity = float(quantity)  # Convert quantity to float\n",
    "\n",
    "        # Only count the first detected unit\n",
    "        if not counted:\n",
    "            if unit.lower() in ['lb', 'lbs']:  # Check for pounds\n",
    "                total_quantity_lbs = quantity  # Set quantity in pounds\n",
    "                counted = True  # Mark that we've counted\n",
    "            elif unit.lower() in ['kg', 'kgs']:  # Check for kilograms\n",
    "                total_quantity_lbs = convert_kg_to_lbs(quantity)  # Convert kg to lbs\n",
    "                counted = True  # Mark that we've counted\n",
    "            elif unit.lower() == 'oz':  # Check for ounces\n",
    "                total_quantity_lbs = convert_oz_to_lbs(quantity)  # Convert oz to lbs\n",
    "                counted = True  # Mark that we've counted\n",
    "            elif unit.lower() == 'g':  # Check for grams\n",
    "                total_quantity_lbs = convert_g_to_lbs(quantity)  # Convert grams to lbs\n",
    "                counted = True  # Mark that we've counted\n",
    "\n",
    "    # Return the total quantity rounded to 2 decimal places\n",
    "    return round(total_quantity_lbs, 2)\n",
    "\n",
    "object_price = driver.find_elements(By.XPATH, '//div[@class=\"css-901oao r-1xaesmv r-ubezar r-majxgm r-wk8lta\"]')\n",
    "time.sleep(3)\n",
    "object_brand\n",
    "object_price    \n",
    "    \n",
    "# Get the number of items\n",
    "number_of_items = min(len(object_brand), len(object_price))\n",
    "object_list = []\n",
    "\n",
    "if number_of_items == 0:\n",
    "    print('No items found')\n",
    "    exit()\n",
    "\n",
    "origin = 'CVS'\n",
    "#create a spam list with the brand, price, and quantity in lbs and also hmart as the origin\n",
    "for i in range(number_of_items):\n",
    "    brand = object_brand[i].text\n",
    "    price = object_price[i].text\n",
    "    quantity = extract_quantity_in_lbs(brand)\n",
    "    object_list.append([origin, brand, quantity, price])\n",
    "# get rid of the discount price\n",
    "for item in object_list:\n",
    "    item[3] = item[3].split('\\n')[0]  # Keep only the first price\n",
    "    \n",
    "# use pandas to create a dataframe\n",
    "import pandas as pd\n",
    "\n",
    "df = pd.DataFrame(object_list, columns=['Origin', 'Brand', 'Quantity (lbs)', 'Price'])\n",
    "print(df)\n",
    "\n",
    "# Save the dataframe to a CSV file\n",
    "df.to_csv(f'{origin}_{object}_prices.csv', index=False)\n",
    "\n",
    "\n",
    "# Close the browser\n",
    "driver.quit()\n",
    "\n"
   ]
  },
  {
   "cell_type": "code",
   "execution_count": 4,
   "metadata": {},
   "outputs": [],
   "source": [
    "driver.find_element(By.XPATH, '//button[@class=\"onetrust-close-btn-handler onetrust-close-btn-ui banner-close-button ot-close-icon\"]').click()"
   ]
  },
  {
   "cell_type": "code",
   "execution_count": 7,
   "metadata": {},
   "outputs": [
    {
     "name": "stdout",
     "output_type": "stream",
     "text": [
      "Spam Luncheon Meat, 12 oz\n",
      "Spam Lite Luncheon Meat, 12 oz\n"
     ]
    }
   ],
   "source": [
    "spam_brand = driver.find_elements(By.XPATH, '//div[@class=\"css-901oao css-cens5h r-b0vftf r-1xaesmv r-ubezar r-majxgm r-29m4ib r-rjixqe r-1bymd8e r-fdjqy7 r-13qz1uu\"]')\n",
    "for brand in spam_brand:\n",
    "    print(brand.text)"
   ]
  },
  {
   "cell_type": "code",
   "execution_count": 8,
   "metadata": {},
   "outputs": [
    {
     "name": "stdout",
     "output_type": "stream",
     "text": [
      "Spam Luncheon Meat, 12 oz\n",
      "0.75\n",
      "Spam Lite Luncheon Meat, 12 oz\n",
      "0.75\n"
     ]
    }
   ],
   "source": [
    "import re\n",
    "\n",
    "def convert_kg_to_lbs(kg):\n",
    "    \"\"\"Convert kilograms to pounds.\"\"\"\n",
    "    return kg * 2.20462\n",
    "\n",
    "def convert_oz_to_lbs(oz):\n",
    "    \"\"\"Convert ounces to pounds.\"\"\"\n",
    "    return oz * 0.0625\n",
    "\n",
    "def convert_g_to_lbs(g):\n",
    "    \"\"\"Convert grams to pounds.\"\"\"\n",
    "    return g * 0.00220462\n",
    "\n",
    "def extract_quantity_in_lbs(product_string):\n",
    "    # Regular expression pattern to match quantity and unit (case insensitive)\n",
    "    pattern = r'(\\d+\\.?\\d*)\\s*(lb|lbs|kg|kgs|oz|g)\\s*'  # Handles lb, kg, oz, g\n",
    "\n",
    "    # Find all matches in the string\n",
    "    matches = re.findall(pattern, product_string, flags=re.IGNORECASE)\n",
    "\n",
    "    # Variable to store the total quantity in pounds\n",
    "    total_quantity_lbs = 0.0\n",
    "\n",
    "    # Flag to track if we've already counted a quantity\n",
    "    counted = False\n",
    "\n",
    "    for match in matches:\n",
    "        quantity, unit = match\n",
    "        quantity = float(quantity)  # Convert quantity to float\n",
    "\n",
    "        # Only count the first detected unit\n",
    "        if not counted:\n",
    "            if unit.lower() in ['lb', 'lbs']:  # Check for pounds\n",
    "                total_quantity_lbs = quantity  # Set quantity in pounds\n",
    "                counted = True  # Mark that we've counted\n",
    "            elif unit.lower() in ['kg', 'kgs']:  # Check for kilograms\n",
    "                total_quantity_lbs = convert_kg_to_lbs(quantity)  # Convert kg to lbs\n",
    "                counted = True  # Mark that we've counted\n",
    "            elif unit.lower() == 'oz':  # Check for ounces\n",
    "                total_quantity_lbs = convert_oz_to_lbs(quantity)  # Convert oz to lbs\n",
    "                counted = True  # Mark that we've counted\n",
    "            elif unit.lower() == 'g':  # Check for grams\n",
    "                total_quantity_lbs = convert_g_to_lbs(quantity)  # Convert grams to lbs\n",
    "                counted = True  # Mark that we've counted\n",
    "\n",
    "    # Return the total quantity rounded to 2 decimal places\n",
    "    return round(total_quantity_lbs, 2)\n",
    "\n",
    "for i in spam_brand:\n",
    "    print(i.text)\n",
    "    print(extract_quantity_in_lbs(i.text))"
   ]
  },
  {
   "cell_type": "code",
   "execution_count": 9,
   "metadata": {},
   "outputs": [
    {
     "data": {
      "text/plain": [
       "[['Spam Luncheon Meat, 12 oz', 0.75, '$5.29'],\n",
       " ['Spam Lite Luncheon Meat, 12 oz', 0.75, '$5.29']]"
      ]
     },
     "execution_count": 9,
     "metadata": {},
     "output_type": "execute_result"
    }
   ],
   "source": [
    "object_price = driver.find_elements(By.XPATH, '//div[@class=\"css-901oao r-1xaesmv r-ubezar r-majxgm r-wk8lta\"]')\n",
    "object_list = []\n",
    "\n",
    "#create a spam list with the brand, price, and quantity in lbs\n",
    "for i in range(len(spam_brand)):\n",
    "    object_list.append([spam_brand[i].text,  extract_quantity_in_lbs(spam_brand[i].text), object_price[i].text])\n",
    "    \n",
    "# get rid of the discount price\n",
    "for item in object_list:\n",
    "    item[2] = item[2].split('\\n')[0]  # Keep only the first price\n",
    "    \n",
    "object_list\n"
   ]
  },
  {
   "cell_type": "code",
   "execution_count": 11,
   "metadata": {},
   "outputs": [
    {
     "name": "stdout",
     "output_type": "stream",
     "text": [
      "                            Brand  Quantity (lbs)  Price\n",
      "0       Spam Luncheon Meat, 12 oz            0.75  $5.29\n",
      "1  Spam Lite Luncheon Meat, 12 oz            0.75  $5.29\n"
     ]
    }
   ],
   "source": [
    "# use pandas to create a dataframe\n",
    "import pandas as pd\n",
    "\n",
    "df = pd.DataFrame(object_list, columns=['Origin', 'Brand', 'Quantity (lbs)', 'Price'])\n",
    "print(df)\n",
    "\n",
    "# Save the dataframe to a CSV file\n",
    "df.to_csv('CSV_spam_prices.csv', index=False)\n",
    "\n",
    "# Save the list to a txt file\n",
    "with open('CSV_spam_prices.txt', 'w') as f:\n",
    "    for item in object_list:\n",
    "        f.write(f'CSV\\t{item[0]}\\t{item[1]}\\t{item[2]}\\n')\n",
    "\n",
    "# Close the driver\n",
    "driver.quit()"
   ]
  }
 ],
 "metadata": {
  "kernelspec": {
   "display_name": "webscraping",
   "language": "python",
   "name": "python3"
  },
  "language_info": {
   "codemirror_mode": {
    "name": "ipython",
    "version": 3
   },
   "file_extension": ".py",
   "mimetype": "text/x-python",
   "name": "python",
   "nbconvert_exporter": "python",
   "pygments_lexer": "ipython3",
   "version": "3.10.15"
  }
 },
 "nbformat": 4,
 "nbformat_minor": 2
}
